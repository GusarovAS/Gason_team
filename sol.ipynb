{
 "cells": [
  {
   "cell_type": "code",
   "execution_count": 1,
   "metadata": {},
   "outputs": [
    {
     "name": "stderr",
     "output_type": "stream",
     "text": [
      "C:\\Users\\pektu\\anaconda3\\lib\\site-packages\\sklearn\\utils\\deprecation.py:143: FutureWarning: The sklearn.feature_extraction.stop_words module is  deprecated in version 0.22 and will be removed in version 0.24. The corresponding classes / functions should instead be imported from sklearn.feature_extraction.text. Anything that cannot be imported from sklearn.feature_extraction.text is now part of the private API.\n",
      "  warnings.warn(message, FutureWarning)\n"
     ]
    }
   ],
   "source": [
    "import pandas as pd\n",
    "import numpy as np\n",
    "from sklearn.model_selection import train_test_split\n",
    "from sklearn.linear_model import LogisticRegression\n",
    "from sklearn.metrics import f1_score\n",
    "from sklearn.feature_extraction.text import CountVectorizer\n",
    "from sklearn.feature_extraction.stop_words import ENGLISH_STOP_WORDS"
   ]
  },
  {
   "cell_type": "code",
   "execution_count": 2,
   "metadata": {},
   "outputs": [
    {
     "data": {
      "text/plain": [
       "<bound method NDFrame.head of        Unnamed: 0                                             review  label\n",
       "0               0  I think they really let the quality of the DVD...      0\n",
       "1               1  I'm sorry but this is just awful. I have told ...      0\n",
       "2               2  The Japenese sense of pacing, editing and musi...      0\n",
       "3               3  In the '60's/'70's, David Jason was renowned f...      1\n",
       "4               4  \"Hail The Woman\" is one of the most moving fil...      1\n",
       "...           ...                                                ...    ...\n",
       "39995       39995  When you come across a gem of a movie like thi...      1\n",
       "39996       39996  I don't often go out of my way to write commen...      0\n",
       "39997       39997  This is an extremely silly and little seen fil...      0\n",
       "39998       39998  Just saw the movie, and the scary thing was, t...      1\n",
       "39999       39999  ...though for a film that seems to be trying t...      0\n",
       "\n",
       "[40000 rows x 3 columns]>"
      ]
     },
     "execution_count": 2,
     "metadata": {},
     "output_type": "execute_result"
    }
   ],
   "source": [
    "data = 'train.csv'\n",
    "df = pd.read_csv(data)\n",
    "df.head"
   ]
  },
  {
   "cell_type": "code",
   "execution_count": 3,
   "metadata": {},
   "outputs": [
    {
     "data": {
      "text/plain": [
       "\"I think they really let the quality of the DVD production get away from them. I rented this DVD from 2 movie stores and the second time I finally got it to play on the 3rd DVD player I tried.<br /><br />Anyone else have this issue? It's really hard to give the film an un-biased review after going through such a hassle to play it. For one, I've never seen a Finnish horror film before so I was sort of bummed that the movie was done in English. Also since it's never made clear what is wrong with Sarah, she just came off as retarded and therefore I really just hoped someone would shoot her in the face and make all the horrific happenings go away.\""
      ]
     },
     "execution_count": 3,
     "metadata": {},
     "output_type": "execute_result"
    }
   ],
   "source": [
    "df['review'][0]"
   ]
  },
  {
   "cell_type": "code",
   "execution_count": 4,
   "metadata": {},
   "outputs": [
    {
     "data": {
      "text/plain": [
       "\"I think they really let the quality of the DVD production get away from them. I rented this DVD from 2 movie stores and the second time I finally got it to play on the 3rd DVD player I tried.  Anyone else have this issue? It's really hard to give the film an un-biased review after going through such a hassle to play it. For one, I've never seen a Finnish horror film before so I was sort of bummed that the movie was done in English. Also since it's never made clear what is wrong with Sarah, she just came off as retarded and therefore I really just hoped someone would shoot her in the face and make all the horrific happenings go away.\""
      ]
     },
     "execution_count": 4,
     "metadata": {},
     "output_type": "execute_result"
    }
   ],
   "source": [
    "df['review'][0].replace('<br />', ' ')"
   ]
  },
  {
   "cell_type": "code",
   "execution_count": 9,
   "metadata": {},
   "outputs": [
    {
     "data": {
      "text/html": [
       "<div>\n",
       "<style scoped>\n",
       "    .dataframe tbody tr th:only-of-type {\n",
       "        vertical-align: middle;\n",
       "    }\n",
       "\n",
       "    .dataframe tbody tr th {\n",
       "        vertical-align: top;\n",
       "    }\n",
       "\n",
       "    .dataframe thead th {\n",
       "        text-align: right;\n",
       "    }\n",
       "</style>\n",
       "<table border=\"1\" class=\"dataframe\">\n",
       "  <thead>\n",
       "    <tr style=\"text-align: right;\">\n",
       "      <th></th>\n",
       "      <th>Unnamed: 0</th>\n",
       "      <th>review</th>\n",
       "      <th>label</th>\n",
       "      <th>excl_number</th>\n",
       "      <th>q_number</th>\n",
       "      <th>neg_number</th>\n",
       "      <th>pos_number</th>\n",
       "      <th>comm_number</th>\n",
       "      <th>double_excl_number</th>\n",
       "    </tr>\n",
       "  </thead>\n",
       "  <tbody>\n",
       "    <tr>\n",
       "      <th>0</th>\n",
       "      <td>0</td>\n",
       "      <td>I think they really let the quality of the DVD...</td>\n",
       "      <td>0</td>\n",
       "      <td>0.000000</td>\n",
       "      <td>0.003371</td>\n",
       "      <td>0.0</td>\n",
       "      <td>0.0</td>\n",
       "      <td>0.003252</td>\n",
       "      <td>0.000000</td>\n",
       "    </tr>\n",
       "    <tr>\n",
       "      <th>1</th>\n",
       "      <td>1</td>\n",
       "      <td>I'm sorry but this is just awful. I have told ...</td>\n",
       "      <td>0</td>\n",
       "      <td>0.000000</td>\n",
       "      <td>0.003480</td>\n",
       "      <td>0.0</td>\n",
       "      <td>0.0</td>\n",
       "      <td>0.001678</td>\n",
       "      <td>0.000000</td>\n",
       "    </tr>\n",
       "    <tr>\n",
       "      <th>2</th>\n",
       "      <td>2</td>\n",
       "      <td>The Japenese sense of pacing, editing and musi...</td>\n",
       "      <td>0</td>\n",
       "      <td>0.000000</td>\n",
       "      <td>0.000000</td>\n",
       "      <td>0.0</td>\n",
       "      <td>0.0</td>\n",
       "      <td>0.010511</td>\n",
       "      <td>0.000000</td>\n",
       "    </tr>\n",
       "    <tr>\n",
       "      <th>3</th>\n",
       "      <td>3</td>\n",
       "      <td>In the '60's/'70's, David Jason was renowned f...</td>\n",
       "      <td>1</td>\n",
       "      <td>0.002572</td>\n",
       "      <td>0.000000</td>\n",
       "      <td>0.0</td>\n",
       "      <td>0.0</td>\n",
       "      <td>0.011702</td>\n",
       "      <td>0.000000</td>\n",
       "    </tr>\n",
       "    <tr>\n",
       "      <th>4</th>\n",
       "      <td>4</td>\n",
       "      <td>\"Hail The Woman\" is one of the most moving fil...</td>\n",
       "      <td>1</td>\n",
       "      <td>0.000000</td>\n",
       "      <td>0.000000</td>\n",
       "      <td>0.0</td>\n",
       "      <td>0.0</td>\n",
       "      <td>0.010711</td>\n",
       "      <td>0.000000</td>\n",
       "    </tr>\n",
       "    <tr>\n",
       "      <th>...</th>\n",
       "      <td>...</td>\n",
       "      <td>...</td>\n",
       "      <td>...</td>\n",
       "      <td>...</td>\n",
       "      <td>...</td>\n",
       "      <td>...</td>\n",
       "      <td>...</td>\n",
       "      <td>...</td>\n",
       "      <td>...</td>\n",
       "    </tr>\n",
       "    <tr>\n",
       "      <th>39995</th>\n",
       "      <td>39995</td>\n",
       "      <td>When you come across a gem of a movie like thi...</td>\n",
       "      <td>1</td>\n",
       "      <td>0.002259</td>\n",
       "      <td>0.000000</td>\n",
       "      <td>0.0</td>\n",
       "      <td>0.0</td>\n",
       "      <td>0.011423</td>\n",
       "      <td>0.000000</td>\n",
       "    </tr>\n",
       "    <tr>\n",
       "      <th>39996</th>\n",
       "      <td>39996</td>\n",
       "      <td>I don't often go out of my way to write commen...</td>\n",
       "      <td>0</td>\n",
       "      <td>0.001977</td>\n",
       "      <td>0.000000</td>\n",
       "      <td>0.0</td>\n",
       "      <td>0.0</td>\n",
       "      <td>0.005998</td>\n",
       "      <td>0.000000</td>\n",
       "    </tr>\n",
       "    <tr>\n",
       "      <th>39997</th>\n",
       "      <td>39997</td>\n",
       "      <td>This is an extremely silly and little seen fil...</td>\n",
       "      <td>0</td>\n",
       "      <td>0.003639</td>\n",
       "      <td>0.000000</td>\n",
       "      <td>0.0</td>\n",
       "      <td>0.0</td>\n",
       "      <td>0.000000</td>\n",
       "      <td>0.000000</td>\n",
       "    </tr>\n",
       "    <tr>\n",
       "      <th>39998</th>\n",
       "      <td>39998</td>\n",
       "      <td>Just saw the movie, and the scary thing was, t...</td>\n",
       "      <td>1</td>\n",
       "      <td>0.009800</td>\n",
       "      <td>0.000000</td>\n",
       "      <td>0.0</td>\n",
       "      <td>0.0</td>\n",
       "      <td>0.009911</td>\n",
       "      <td>0.005896</td>\n",
       "    </tr>\n",
       "    <tr>\n",
       "      <th>39999</th>\n",
       "      <td>39999</td>\n",
       "      <td>...though for a film that seems to be trying t...</td>\n",
       "      <td>0</td>\n",
       "      <td>0.004088</td>\n",
       "      <td>0.000952</td>\n",
       "      <td>0.0</td>\n",
       "      <td>0.0</td>\n",
       "      <td>0.013091</td>\n",
       "      <td>0.000000</td>\n",
       "    </tr>\n",
       "  </tbody>\n",
       "</table>\n",
       "<p>40000 rows × 9 columns</p>\n",
       "</div>"
      ],
      "text/plain": [
       "       Unnamed: 0                                             review  label  \\\n",
       "0               0  I think they really let the quality of the DVD...      0   \n",
       "1               1  I'm sorry but this is just awful. I have told ...      0   \n",
       "2               2  The Japenese sense of pacing, editing and musi...      0   \n",
       "3               3  In the '60's/'70's, David Jason was renowned f...      1   \n",
       "4               4  \"Hail The Woman\" is one of the most moving fil...      1   \n",
       "...           ...                                                ...    ...   \n",
       "39995       39995  When you come across a gem of a movie like thi...      1   \n",
       "39996       39996  I don't often go out of my way to write commen...      0   \n",
       "39997       39997  This is an extremely silly and little seen fil...      0   \n",
       "39998       39998  Just saw the movie, and the scary thing was, t...      1   \n",
       "39999       39999  ...though for a film that seems to be trying t...      0   \n",
       "\n",
       "       excl_number  q_number  neg_number  pos_number  comm_number  \\\n",
       "0         0.000000  0.003371         0.0         0.0     0.003252   \n",
       "1         0.000000  0.003480         0.0         0.0     0.001678   \n",
       "2         0.000000  0.000000         0.0         0.0     0.010511   \n",
       "3         0.002572  0.000000         0.0         0.0     0.011702   \n",
       "4         0.000000  0.000000         0.0         0.0     0.010711   \n",
       "...            ...       ...         ...         ...          ...   \n",
       "39995     0.002259  0.000000         0.0         0.0     0.011423   \n",
       "39996     0.001977  0.000000         0.0         0.0     0.005998   \n",
       "39997     0.003639  0.000000         0.0         0.0     0.000000   \n",
       "39998     0.009800  0.000000         0.0         0.0     0.009911   \n",
       "39999     0.004088  0.000952         0.0         0.0     0.013091   \n",
       "\n",
       "       double_excl_number  \n",
       "0                0.000000  \n",
       "1                0.000000  \n",
       "2                0.000000  \n",
       "3                0.000000  \n",
       "4                0.000000  \n",
       "...                   ...  \n",
       "39995            0.000000  \n",
       "39996            0.000000  \n",
       "39997            0.000000  \n",
       "39998            0.005896  \n",
       "39999            0.000000  \n",
       "\n",
       "[40000 rows x 9 columns]"
      ]
     },
     "execution_count": 9,
     "metadata": {},
     "output_type": "execute_result"
    }
   ],
   "source": [
    "preprocess_df(df)"
   ]
  },
  {
   "cell_type": "code",
   "execution_count": 10,
   "metadata": {},
   "outputs": [
    {
     "name": "stderr",
     "output_type": "stream",
     "text": [
      "[nltk_data] Downloading package punkt to\n",
      "[nltk_data]     C:\\Users\\pektu\\AppData\\Roaming\\nltk_data...\n",
      "[nltk_data]   Package punkt is already up-to-date!\n",
      "[nltk_data] Downloading package stopwords to\n",
      "[nltk_data]     C:\\Users\\pektu\\AppData\\Roaming\\nltk_data...\n",
      "[nltk_data]   Package stopwords is already up-to-date!\n",
      "[nltk_data] Downloading package wordnet to\n",
      "[nltk_data]     C:\\Users\\pektu\\AppData\\Roaming\\nltk_data...\n",
      "[nltk_data]   Package wordnet is already up-to-date!\n"
     ]
    },
    {
     "data": {
      "text/plain": [
       "True"
      ]
     },
     "execution_count": 10,
     "metadata": {},
     "output_type": "execute_result"
    }
   ],
   "source": [
    "from nltk.corpus import stopwords\n",
    "from nltk.stem import WordNetLemmatizer\n",
    "import nltk\n",
    "nltk.download('punkt')\n",
    "nltk.download('stopwords')\n",
    "nltk.download('wordnet')"
   ]
  },
  {
   "cell_type": "code",
   "execution_count": 11,
   "metadata": {},
   "outputs": [],
   "source": [
    "from gensim.models import Word2Vec\n",
    "from gensim.utils import simple_preprocess\n",
    "from gensim.parsing.preprocessing import remove_stopwords\n",
    "from gensim.parsing.porter import PorterStemmer\n",
    "porter_stemmer = PorterStemmer()\n",
    "\n",
    "en_stop = list(stopwords.words('english'))\n",
    "lemmatizer = WordNetLemmatizer() \n",
    "\n",
    "def tokenize(text):\n",
    "    tokens = nltk.word_tokenize(text.lower())\n",
    "    tokens = [t for t in tokens if\n",
    "              re.match(r'[^\\W\\d]*$', t) and (len(t) > 2) and (t not in en_stop)]\n",
    "    tokens = [lemmatizer.lemmatize(t) for t in tokens]\n",
    "    return tokens\n",
    "\n",
    "tokens = df['review'].apply(tokenize)\n",
    "#tokens = [simple_preprocess(remove_stopwords(review), deacc=True) for review in df['review']]"
   ]
  },
  {
   "cell_type": "code",
   "execution_count": 308,
   "metadata": {},
   "outputs": [],
   "source": [
    "#tokens = [[porter_stemmer.stem(word) for word in review] for review in tokens]"
   ]
  },
  {
   "cell_type": "code",
   "execution_count": 12,
   "metadata": {},
   "outputs": [],
   "source": [
    "model = Word2Vec(tokens, size=512, window=11, sample=1e-5, min_count=5, iter=11, negative=20, sg=1)"
   ]
  },
  {
   "cell_type": "code",
   "execution_count": 12,
   "metadata": {},
   "outputs": [],
   "source": [
    "#чтобы долго не ждать, можно написать\n",
    "model = Word2Vec.load(\"word2vec.model\")"
   ]
  },
  {
   "cell_type": "code",
   "execution_count": 13,
   "metadata": {},
   "outputs": [],
   "source": [
    "model.save(\"word2vec.model\")"
   ]
  },
  {
   "cell_type": "code",
   "execution_count": 18,
   "metadata": {},
   "outputs": [
    {
     "name": "stderr",
     "output_type": "stream",
     "text": [
      "<ipython-input-18-7b7eabcc4bf7>:1: DeprecationWarning: Call to deprecated `wv` (Attribute will be removed in 4.0.0, use self instead).\n",
      "  model.wv.similarity('movie', 'film')\n"
     ]
    },
    {
     "data": {
      "text/plain": [
       "0.867677"
      ]
     },
     "execution_count": 18,
     "metadata": {},
     "output_type": "execute_result"
    }
   ],
   "source": [
    "model.wv.similarity('movie', 'film')"
   ]
  },
  {
   "cell_type": "code",
   "execution_count": 13,
   "metadata": {},
   "outputs": [],
   "source": [
    "import gensim\n",
    "wv = gensim.models.KeyedVectors.load_word2vec_format('GoogleNews-vectors-negative300.bin', binary=True)"
   ]
  },
  {
   "cell_type": "code",
   "execution_count": 14,
   "metadata": {},
   "outputs": [],
   "source": [
    "model = wv"
   ]
  },
  {
   "cell_type": "code",
   "execution_count": 6,
   "metadata": {},
   "outputs": [],
   "source": [
    "def preprocess_df(df):\n",
    "    df['review'] = df['review'].apply(lambda s: s.replace('<br />', ' '))\n",
    "    df['excl_number'] = tfidf_symb(df['review'], '!')\n",
    "    df['q_number'] = tfidf_symb(df['review'], '?')\n",
    "    #df['dot_number'] = tfidf_symb(df['review'], '.')\n",
    "    df['neg_number'] = tfidf_neg(df['review'])\n",
    "    df['pos_number'] = tfidf_pos(df['review'])\n",
    "    df['comm_number'] = tfidf_symb(df['review'], ',')\n",
    "    df['double_excl_number'] = tfidf_symb(df['review'], '!!')\n",
    "    \n",
    "    return df"
   ]
  },
  {
   "cell_type": "code",
   "execution_count": 15,
   "metadata": {},
   "outputs": [
    {
     "name": "stderr",
     "output_type": "stream",
     "text": [
      "<ipython-input-15-53c10694d8ba>:2: DeprecationWarning: Call to deprecated `wv` (Attribute will be removed in 4.0.0, use self instead).\n",
      "  x = np.array([model.wv[t] for t in list_of_tokens if t in model.wv.vocab])\n"
     ]
    },
    {
     "data": {
      "text/plain": [
       "(40000, 300)"
      ]
     },
     "execution_count": 15,
     "metadata": {},
     "output_type": "execute_result"
    }
   ],
   "source": [
    "def encode(list_of_tokens):\n",
    "    x = np.array([model.wv[t] for t in list_of_tokens if t in model.wv.vocab])\n",
    "    #return [np.min(x, axis=0), np.mean(x, axis=0), np.max(x, axis=0)]\n",
    "    return np.mean(x, axis=0)\n",
    "\n",
    "fts = np.array([encode(t) for t in tokens])\n",
    "fts.shape"
   ]
  },
  {
   "cell_type": "code",
   "execution_count": 44,
   "metadata": {},
   "outputs": [],
   "source": [
    "fts = np.array([x.reshape(1, 512 * 3)[0] for x in fts])"
   ]
  },
  {
   "cell_type": "code",
   "execution_count": 7,
   "metadata": {},
   "outputs": [],
   "source": [
    "import math\n",
    "def get_neg(s):\n",
    "    a = s.count('('); b = s.count(')')\n",
    "    if a - b <= 0: return 0\n",
    "    else: return (a - b) / len(s)\n",
    "def get_pos(s):\n",
    "    a = s.count('('); b = s.count(')')\n",
    "    if b - a <= 0: return 0\n",
    "    else: return (b - a) / len(s)"
   ]
  },
  {
   "cell_type": "code",
   "execution_count": 8,
   "metadata": {},
   "outputs": [],
   "source": [
    "def tfidf_symb(texts, sym):\n",
    "    idf = np.log((len(texts) + 1) / (np.sum(texts.apply(lambda s: 0 if s.find(sym) == -1 else 1)) + 1)) + 1\n",
    "    res = []\n",
    "    for text in texts:\n",
    "        tf = text.count(sym) / len(text)\n",
    "        res.append(tf * idf)\n",
    "    return res\n",
    "def tfidf_neg(texts):\n",
    "    idf = np.log((len(texts) + 1) / (np.sum(texts.apply(lambda s: 0 if get_neg(s) == 0 else 1)) + 1)) + 1\n",
    "    res = []\n",
    "    for text in texts:\n",
    "        tf = get_neg(text) / len(text)\n",
    "        res.append(tf * idf)\n",
    "    return res\n",
    "def tfidf_pos(texts):\n",
    "    idf = np.log((len(texts) + 1) / (np.sum(texts.apply(lambda s: 0 if get_pos(s) == 0 else 1)) + 1)) + 1\n",
    "    res = []\n",
    "    for text in texts:\n",
    "        tf = get_pos(text) / len(text)\n",
    "        res.append(tf * idf)\n",
    "    return res\n",
    "\n",
    "import re\n",
    "def count_upper(s):\n",
    "    return len(re.findall(r'[A-Z]',s))\n",
    "\n",
    "\n",
    "def tfidf_big(texts):\n",
    "    res = []\n",
    "    for text in texts:\n",
    "        n = count_upper(text)\n",
    "        tf = n / len(text)\n",
    "        idf = np.log((len(texts) + 1) / (np.sum(texts.apply(lambda s: 0 if count_upper(s) >= n else 1)) + 1)) + 1\n",
    "        res.append(tf * idf)\n",
    "    return res"
   ]
  },
  {
   "cell_type": "code",
   "execution_count": 19,
   "metadata": {},
   "outputs": [],
   "source": [
    "def preprocess_fts(words, df):\n",
    "    names = ['excl_number', 'double_excl_number', 'q_number', 'neg_number', 'pos_number', 'comm_number']\n",
    "    for name in names:\n",
    "        words = np.hstack([words, np.array(df[name]).reshape(df[name].shape[0], 1)])\n",
    "    return words"
   ]
  },
  {
   "cell_type": "code",
   "execution_count": 20,
   "metadata": {},
   "outputs": [],
   "source": [
    "fts = preprocess_fts(fts, df)"
   ]
  },
  {
   "cell_type": "code",
   "execution_count": 21,
   "metadata": {},
   "outputs": [],
   "source": [
    "X_train, X_test, y_train, y_test = train_test_split(fts, df.label.values,\n",
    "                                                    test_size=0.2, shuffle=True, random_state = 11)"
   ]
  },
  {
   "cell_type": "code",
   "execution_count": 22,
   "metadata": {},
   "outputs": [],
   "source": [
    "from sklearn.preprocessing import StandardScaler\n",
    "scaler = StandardScaler(with_mean = False)\n",
    "X_train_sc = scaler.fit_transform(X_train)\n",
    "X_test_sc = scaler.transform(X_test)"
   ]
  },
  {
   "cell_type": "code",
   "execution_count": 31,
   "metadata": {},
   "outputs": [
    {
     "data": {
      "text/plain": [
       "SVC(gamma='auto', probability=True)"
      ]
     },
     "execution_count": 31,
     "metadata": {},
     "output_type": "execute_result"
    }
   ],
   "source": [
    "from sklearn.linear_model import LogisticRegression\n",
    "from sklearn.model_selection import GridSearchCV\n",
    "from sklearn.ensemble import GradientBoostingClassifier\n",
    "from sklearn.ensemble import RandomForestClassifier\n",
    "from sklearn.tree import DecisionTreeClassifier\n",
    "from sklearn import svm\n",
    "from sklearn.ensemble import ExtraTreesClassifier\n",
    "from sklearn.linear_model import SGDClassifier\n",
    "from sklearn.ensemble import AdaBoostClassifier\n",
    "from sklearn.ensemble import BaggingClassifier\n",
    "#param_grid = {'C': [0.01, 0.05, 0.1, 0.5, 1, 5, 10]}\n",
    "#estimator = LogisticRegression(solver='lbfgs')\n",
    "#cv = 3\n",
    "#optimizer = GridSearchCV(estimator, param_grid, cv=cv, scoring='f1')\n",
    "#optimizer.fit(X_train_sc, y_train)\n",
    "\n",
    "#clf = DecisionTreeClassifier().fit(X_train_sc, y_train)\n",
    "#clf_1 = LogisticRegression(solver='lbfgs', max_iter=5000).fit(X_train_sc, y_train)\n",
    "#clf = GradientBoostingClassifier(n_estimators=100, learning_rate=0.1, max_depth=7, random_state=0).fit(X_train, y_train)\n",
    "#clf = RandomForestClassifier(n_estimators = 100, max_depth=11, random_state=0).fit(X_train_sc, y_train)\n",
    "clf_1 = svm.SVC(kernel='rbf', probability=True, gamma='auto')\n",
    "clf_1.fit(X_train_sc, y_train)\n",
    "#clf_1 = SGDClassifier(loss='hinge', penalty='l2',alpha=1e-3, random_state=11, max_iter=5, tol=None)\n",
    "#clf_1.fit(X_train_sc, y_train)\n",
    "#clf_1 = AdaBoostClassifier(n_estimators = 800).fit(X_train_sc, y_train)\n",
    "#svm = svm.SVC(gamma='auto',probability=True)\n",
    "#clf_1 = BaggingClassifier(base_estimator=svm, n_estimators=10, random_state=11, max_samples=2000, bootstrap = False, n_jobs=-1,\n",
    "#                        warm_start=True)\n",
    "#clf_1.fit(X_train_sc,y_train)"
   ]
  },
  {
   "cell_type": "code",
   "execution_count": 32,
   "metadata": {},
   "outputs": [
    {
     "name": "stdout",
     "output_type": "stream",
     "text": [
      "Model test f1 score: 0.870960\n",
      "Model train f1 score: 0.935294\n"
     ]
    }
   ],
   "source": [
    "y_pred_test = clf_1.predict(X_test_sc)\n",
    "y_pred_train = clf_1.predict(X_train_sc)\n",
    "print('Model test f1 score: {0:0.6f}'. format(f1_score(y_test, y_pred_test)))#0.891681      0.884116\n",
    "print('Model train f1 score: {0:0.6f}'. format(f1_score(y_train, y_pred_train)))#0.924731   0.905931"
   ]
  },
  {
   "cell_type": "code",
   "execution_count": null,
   "metadata": {},
   "outputs": [],
   "source": [
    "X_test"
   ]
  },
  {
   "cell_type": "code",
   "execution_count": 33,
   "metadata": {},
   "outputs": [
    {
     "data": {
      "text/plain": [
       "<bound method NDFrame.head of       Unnamed: 0                                             review\n",
       "0              0  The make -or-break of a love story for me is w...\n",
       "1              1  \"Bend It Like Beckham\" is a film that got very...\n",
       "2              2  Pete's Meteor. I seen this referred to as \"aut...\n",
       "3              3  Funny that I find myself forced to review this...\n",
       "4              4  Bare Wench is another softcore parody of the B...\n",
       "...          ...                                                ...\n",
       "9995        9995  The only reason I wanted to see this was becau...\n",
       "9996        9996  Three Russian aristocrats soak up the decadenc...\n",
       "9997        9997  Greetings again from the darkness. Remember al...\n",
       "9998        9998  This film is a tour de force from Julie Taymor...\n",
       "9999        9999  I'll be honest,I finally checked this movie no...\n",
       "\n",
       "[10000 rows x 2 columns]>"
      ]
     },
     "execution_count": 33,
     "metadata": {},
     "output_type": "execute_result"
    }
   ],
   "source": [
    "datat = 'test.csv'\n",
    "df_test = pd.read_csv(datat)\n",
    "df_test.head"
   ]
  },
  {
   "cell_type": "code",
   "execution_count": 34,
   "metadata": {},
   "outputs": [
    {
     "data": {
      "text/html": [
       "<div>\n",
       "<style scoped>\n",
       "    .dataframe tbody tr th:only-of-type {\n",
       "        vertical-align: middle;\n",
       "    }\n",
       "\n",
       "    .dataframe tbody tr th {\n",
       "        vertical-align: top;\n",
       "    }\n",
       "\n",
       "    .dataframe thead th {\n",
       "        text-align: right;\n",
       "    }\n",
       "</style>\n",
       "<table border=\"1\" class=\"dataframe\">\n",
       "  <thead>\n",
       "    <tr style=\"text-align: right;\">\n",
       "      <th></th>\n",
       "      <th>Unnamed: 0</th>\n",
       "      <th>review</th>\n",
       "      <th>excl_number</th>\n",
       "      <th>q_number</th>\n",
       "      <th>neg_number</th>\n",
       "      <th>pos_number</th>\n",
       "      <th>comm_number</th>\n",
       "      <th>double_excl_number</th>\n",
       "    </tr>\n",
       "  </thead>\n",
       "  <tbody>\n",
       "    <tr>\n",
       "      <th>0</th>\n",
       "      <td>0</td>\n",
       "      <td>The make -or-break of a love story for me is w...</td>\n",
       "      <td>0.001547</td>\n",
       "      <td>0.000000</td>\n",
       "      <td>0.0</td>\n",
       "      <td>0.0</td>\n",
       "      <td>0.005447</td>\n",
       "      <td>0.000000</td>\n",
       "    </tr>\n",
       "    <tr>\n",
       "      <th>1</th>\n",
       "      <td>1</td>\n",
       "      <td>\"Bend It Like Beckham\" is a film that got very...</td>\n",
       "      <td>0.002798</td>\n",
       "      <td>0.000000</td>\n",
       "      <td>0.0</td>\n",
       "      <td>0.0</td>\n",
       "      <td>0.007036</td>\n",
       "      <td>0.000000</td>\n",
       "    </tr>\n",
       "    <tr>\n",
       "      <th>2</th>\n",
       "      <td>2</td>\n",
       "      <td>Pete's Meteor. I seen this referred to as \"aut...</td>\n",
       "      <td>0.000000</td>\n",
       "      <td>0.000867</td>\n",
       "      <td>0.0</td>\n",
       "      <td>0.0</td>\n",
       "      <td>0.007723</td>\n",
       "      <td>0.000000</td>\n",
       "    </tr>\n",
       "    <tr>\n",
       "      <th>3</th>\n",
       "      <td>3</td>\n",
       "      <td>Funny that I find myself forced to review this...</td>\n",
       "      <td>0.000000</td>\n",
       "      <td>0.000474</td>\n",
       "      <td>0.0</td>\n",
       "      <td>0.0</td>\n",
       "      <td>0.018935</td>\n",
       "      <td>0.000000</td>\n",
       "    </tr>\n",
       "    <tr>\n",
       "      <th>4</th>\n",
       "      <td>4</td>\n",
       "      <td>Bare Wench is another softcore parody of the B...</td>\n",
       "      <td>0.009982</td>\n",
       "      <td>0.000000</td>\n",
       "      <td>0.0</td>\n",
       "      <td>0.0</td>\n",
       "      <td>0.010039</td>\n",
       "      <td>0.000000</td>\n",
       "    </tr>\n",
       "    <tr>\n",
       "      <th>...</th>\n",
       "      <td>...</td>\n",
       "      <td>...</td>\n",
       "      <td>...</td>\n",
       "      <td>...</td>\n",
       "      <td>...</td>\n",
       "      <td>...</td>\n",
       "      <td>...</td>\n",
       "      <td>...</td>\n",
       "    </tr>\n",
       "    <tr>\n",
       "      <th>9995</th>\n",
       "      <td>9995</td>\n",
       "      <td>The only reason I wanted to see this was becau...</td>\n",
       "      <td>0.000000</td>\n",
       "      <td>0.000000</td>\n",
       "      <td>0.0</td>\n",
       "      <td>0.0</td>\n",
       "      <td>0.011496</td>\n",
       "      <td>0.000000</td>\n",
       "    </tr>\n",
       "    <tr>\n",
       "      <th>9996</th>\n",
       "      <td>9996</td>\n",
       "      <td>Three Russian aristocrats soak up the decadenc...</td>\n",
       "      <td>0.000000</td>\n",
       "      <td>0.000000</td>\n",
       "      <td>0.0</td>\n",
       "      <td>0.0</td>\n",
       "      <td>0.019489</td>\n",
       "      <td>0.000000</td>\n",
       "    </tr>\n",
       "    <tr>\n",
       "      <th>9997</th>\n",
       "      <td>9997</td>\n",
       "      <td>Greetings again from the darkness. Remember al...</td>\n",
       "      <td>0.003582</td>\n",
       "      <td>0.001871</td>\n",
       "      <td>0.0</td>\n",
       "      <td>0.0</td>\n",
       "      <td>0.008106</td>\n",
       "      <td>0.003242</td>\n",
       "    </tr>\n",
       "    <tr>\n",
       "      <th>9998</th>\n",
       "      <td>9998</td>\n",
       "      <td>This film is a tour de force from Julie Taymor...</td>\n",
       "      <td>0.000000</td>\n",
       "      <td>0.000000</td>\n",
       "      <td>0.0</td>\n",
       "      <td>0.0</td>\n",
       "      <td>0.004883</td>\n",
       "      <td>0.000000</td>\n",
       "    </tr>\n",
       "    <tr>\n",
       "      <th>9999</th>\n",
       "      <td>9999</td>\n",
       "      <td>I'll be honest,I finally checked this movie no...</td>\n",
       "      <td>0.003319</td>\n",
       "      <td>0.001155</td>\n",
       "      <td>0.0</td>\n",
       "      <td>0.0</td>\n",
       "      <td>0.009456</td>\n",
       "      <td>0.002003</td>\n",
       "    </tr>\n",
       "  </tbody>\n",
       "</table>\n",
       "<p>10000 rows × 8 columns</p>\n",
       "</div>"
      ],
      "text/plain": [
       "      Unnamed: 0                                             review  \\\n",
       "0              0  The make -or-break of a love story for me is w...   \n",
       "1              1  \"Bend It Like Beckham\" is a film that got very...   \n",
       "2              2  Pete's Meteor. I seen this referred to as \"aut...   \n",
       "3              3  Funny that I find myself forced to review this...   \n",
       "4              4  Bare Wench is another softcore parody of the B...   \n",
       "...          ...                                                ...   \n",
       "9995        9995  The only reason I wanted to see this was becau...   \n",
       "9996        9996  Three Russian aristocrats soak up the decadenc...   \n",
       "9997        9997  Greetings again from the darkness. Remember al...   \n",
       "9998        9998  This film is a tour de force from Julie Taymor...   \n",
       "9999        9999  I'll be honest,I finally checked this movie no...   \n",
       "\n",
       "      excl_number  q_number  neg_number  pos_number  comm_number  \\\n",
       "0        0.001547  0.000000         0.0         0.0     0.005447   \n",
       "1        0.002798  0.000000         0.0         0.0     0.007036   \n",
       "2        0.000000  0.000867         0.0         0.0     0.007723   \n",
       "3        0.000000  0.000474         0.0         0.0     0.018935   \n",
       "4        0.009982  0.000000         0.0         0.0     0.010039   \n",
       "...           ...       ...         ...         ...          ...   \n",
       "9995     0.000000  0.000000         0.0         0.0     0.011496   \n",
       "9996     0.000000  0.000000         0.0         0.0     0.019489   \n",
       "9997     0.003582  0.001871         0.0         0.0     0.008106   \n",
       "9998     0.000000  0.000000         0.0         0.0     0.004883   \n",
       "9999     0.003319  0.001155         0.0         0.0     0.009456   \n",
       "\n",
       "      double_excl_number  \n",
       "0               0.000000  \n",
       "1               0.000000  \n",
       "2               0.000000  \n",
       "3               0.000000  \n",
       "4               0.000000  \n",
       "...                  ...  \n",
       "9995            0.000000  \n",
       "9996            0.000000  \n",
       "9997            0.003242  \n",
       "9998            0.000000  \n",
       "9999            0.002003  \n",
       "\n",
       "[10000 rows x 8 columns]"
      ]
     },
     "execution_count": 34,
     "metadata": {},
     "output_type": "execute_result"
    }
   ],
   "source": [
    "preprocess_df(df_test)"
   ]
  },
  {
   "cell_type": "code",
   "execution_count": 35,
   "metadata": {},
   "outputs": [],
   "source": [
    "tokens_test = df_test['review'].apply(tokenize)"
   ]
  },
  {
   "cell_type": "code",
   "execution_count": 36,
   "metadata": {},
   "outputs": [
    {
     "name": "stderr",
     "output_type": "stream",
     "text": [
      "<ipython-input-15-53c10694d8ba>:2: DeprecationWarning: Call to deprecated `wv` (Attribute will be removed in 4.0.0, use self instead).\n",
      "  x = np.array([model.wv[t] for t in list_of_tokens if t in model.wv.vocab])\n"
     ]
    },
    {
     "data": {
      "text/plain": [
       "(10000, 300)"
      ]
     },
     "execution_count": 36,
     "metadata": {},
     "output_type": "execute_result"
    }
   ],
   "source": [
    "fts_test = np.array([encode(t) for t in tokens_test])\n",
    "fts_test.shape"
   ]
  },
  {
   "cell_type": "code",
   "execution_count": 69,
   "metadata": {},
   "outputs": [
    {
     "ename": "ValueError",
     "evalue": "cannot reshape array of size 512 into shape (1,1536)",
     "output_type": "error",
     "traceback": [
      "\u001b[1;31m---------------------------------------------------------------------------\u001b[0m",
      "\u001b[1;31mValueError\u001b[0m                                Traceback (most recent call last)",
      "\u001b[1;32m<ipython-input-69-3cc5522b3a8b>\u001b[0m in \u001b[0;36m<module>\u001b[1;34m\u001b[0m\n\u001b[1;32m----> 1\u001b[1;33m \u001b[0mfts_test\u001b[0m \u001b[1;33m=\u001b[0m \u001b[0mnp\u001b[0m\u001b[1;33m.\u001b[0m\u001b[0marray\u001b[0m\u001b[1;33m(\u001b[0m\u001b[1;33m[\u001b[0m\u001b[0mx\u001b[0m\u001b[1;33m.\u001b[0m\u001b[0mreshape\u001b[0m\u001b[1;33m(\u001b[0m\u001b[1;36m1\u001b[0m\u001b[1;33m,\u001b[0m \u001b[1;36m512\u001b[0m \u001b[1;33m*\u001b[0m \u001b[1;36m3\u001b[0m\u001b[1;33m)\u001b[0m\u001b[1;33m[\u001b[0m\u001b[1;36m0\u001b[0m\u001b[1;33m]\u001b[0m \u001b[1;32mfor\u001b[0m \u001b[0mx\u001b[0m \u001b[1;32min\u001b[0m \u001b[0mfts_test\u001b[0m\u001b[1;33m]\u001b[0m\u001b[1;33m)\u001b[0m\u001b[1;33m\u001b[0m\u001b[1;33m\u001b[0m\u001b[0m\n\u001b[0m\u001b[0;32m      2\u001b[0m \u001b[0mfts_test\u001b[0m\u001b[1;33m.\u001b[0m\u001b[0mshape\u001b[0m\u001b[1;33m\u001b[0m\u001b[1;33m\u001b[0m\u001b[0m\n",
      "\u001b[1;32m<ipython-input-69-3cc5522b3a8b>\u001b[0m in \u001b[0;36m<listcomp>\u001b[1;34m(.0)\u001b[0m\n\u001b[1;32m----> 1\u001b[1;33m \u001b[0mfts_test\u001b[0m \u001b[1;33m=\u001b[0m \u001b[0mnp\u001b[0m\u001b[1;33m.\u001b[0m\u001b[0marray\u001b[0m\u001b[1;33m(\u001b[0m\u001b[1;33m[\u001b[0m\u001b[0mx\u001b[0m\u001b[1;33m.\u001b[0m\u001b[0mreshape\u001b[0m\u001b[1;33m(\u001b[0m\u001b[1;36m1\u001b[0m\u001b[1;33m,\u001b[0m \u001b[1;36m512\u001b[0m \u001b[1;33m*\u001b[0m \u001b[1;36m3\u001b[0m\u001b[1;33m)\u001b[0m\u001b[1;33m[\u001b[0m\u001b[1;36m0\u001b[0m\u001b[1;33m]\u001b[0m \u001b[1;32mfor\u001b[0m \u001b[0mx\u001b[0m \u001b[1;32min\u001b[0m \u001b[0mfts_test\u001b[0m\u001b[1;33m]\u001b[0m\u001b[1;33m)\u001b[0m\u001b[1;33m\u001b[0m\u001b[1;33m\u001b[0m\u001b[0m\n\u001b[0m\u001b[0;32m      2\u001b[0m \u001b[0mfts_test\u001b[0m\u001b[1;33m.\u001b[0m\u001b[0mshape\u001b[0m\u001b[1;33m\u001b[0m\u001b[1;33m\u001b[0m\u001b[0m\n",
      "\u001b[1;31mValueError\u001b[0m: cannot reshape array of size 512 into shape (1,1536)"
     ]
    }
   ],
   "source": [
    "fts_test = np.array([x.reshape(1, 512 * 3)[0] for x in fts_test])\n",
    "fts_test.shape"
   ]
  },
  {
   "cell_type": "code",
   "execution_count": 37,
   "metadata": {},
   "outputs": [
    {
     "data": {
      "text/plain": [
       "(10000, 306)"
      ]
     },
     "execution_count": 37,
     "metadata": {},
     "output_type": "execute_result"
    }
   ],
   "source": [
    "fts_test = preprocess_fts(fts_test, df_test)\n",
    "fts_test.shape"
   ]
  },
  {
   "cell_type": "code",
   "execution_count": 38,
   "metadata": {},
   "outputs": [],
   "source": [
    "X_all = scaler.fit_transform(fts)\n",
    "fts_test_sc = scaler.transform(fts_test)"
   ]
  },
  {
   "cell_type": "code",
   "execution_count": 39,
   "metadata": {},
   "outputs": [
    {
     "data": {
      "text/plain": [
       "SVC(gamma='auto', probability=True)"
      ]
     },
     "execution_count": 39,
     "metadata": {},
     "output_type": "execute_result"
    }
   ],
   "source": [
    "clf_1.fit(X_all, df['label'].values)"
   ]
  },
  {
   "cell_type": "code",
   "execution_count": 40,
   "metadata": {},
   "outputs": [
    {
     "name": "stdout",
     "output_type": "stream",
     "text": [
      "              precision    recall  f1-score   support\n",
      "\n",
      "           0       0.94      0.93      0.93     20067\n",
      "           1       0.93      0.94      0.93     19933\n",
      "\n",
      "    accuracy                           0.93     40000\n",
      "   macro avg       0.93      0.93      0.93     40000\n",
      "weighted avg       0.93      0.93      0.93     40000\n",
      "\n",
      "Model f1 score: 0.934020\n"
     ]
    }
   ],
   "source": [
    "from sklearn.metrics import classification_report\n",
    "print(classification_report(df['label'].values, clf_1.predict(X_all)))\n",
    "print('Model f1 score: {0:0.6f}'. format(f1_score(df['label'].values, clf_1.predict(X_all))))"
   ]
  },
  {
   "cell_type": "code",
   "execution_count": 41,
   "metadata": {},
   "outputs": [],
   "source": [
    "res = clf_1.predict(fts_test_sc)\n",
    "ans = pd.DataFrame(np.array([df_test['Unnamed: 0'], res]).T, columns=[['Id', 'Predicted']])\n",
    "ans.to_csv('Gason_task_4.csv', index = False)"
   ]
  }
 ],
 "metadata": {
  "kernelspec": {
   "display_name": "Python 3",
   "language": "python",
   "name": "python3"
  },
  "language_info": {
   "codemirror_mode": {
    "name": "ipython",
    "version": 3
   },
   "file_extension": ".py",
   "mimetype": "text/x-python",
   "name": "python",
   "nbconvert_exporter": "python",
   "pygments_lexer": "ipython3",
   "version": "3.8.3"
  }
 },
 "nbformat": 4,
 "nbformat_minor": 4
}
