{
 "cells": [
  {
   "cell_type": "markdown",
   "metadata": {},
   "source": [
    "Elina Akhundzhanova, Egor Bulavko, Gusarov Aleksandr"
   ]
  },
  {
   "cell_type": "markdown",
   "metadata": {},
   "source": [
    "Подключаем библиотеки"
   ]
  },
  {
   "cell_type": "code",
   "execution_count": null,
   "metadata": {},
   "outputs": [],
   "source": [
    "import numpy as np\n",
    "import matplotlib.pyplot as plt\n",
    "from sklearn.linear_model import Lasso\n",
    "from sklearn.model_selection import train_test_split\n",
    "from scipy import integrate\n",
    "from sklearn.model_selection import KFold"
   ]
  },
  {
   "cell_type": "markdown",
   "metadata": {},
   "source": [
    "Расчёт модели (без регуляризации)"
   ]
  },
  {
   "cell_type": "code",
   "execution_count": null,
   "metadata": {},
   "outputs": [],
   "source": [
    "def ols(X, Y):\n",
    "    return np.linalg.inv(X.T @ X) @ X.T @ Y"
   ]
  },
  {
   "cell_type": "markdown",
   "metadata": {},
   "source": [
    "KFold (нужен выбор параметра M)"
   ]
  },
  {
   "cell_type": "code",
   "execution_count": null,
   "metadata": {},
   "outputs": [],
   "source": [
    "kf = KFold(n_splits=10, shuffle=True, random_state=123)\n",
    "\n",
    "loss_m = []\n",
    "for m in range(2, M + 2):\n",
    "    loss_k = []\n",
    "    for train_index, test_index in kf.split(F_train):\n",
    "        Fk_train, Fk_test = F_train[train_index], F_train[test_index]\n",
    "        yk_train, yk_test = y_train[train_index], y_train[test_index]\n",
    "        reg = ols(Fk_train[:, :m], yk_train)      \n",
    "        loss_k.append(np.mean((Fk_test[:, :m] @ reg - yk_test) ** 2))\n",
    "    loss_m.append(np.mean(loss_k))\n",
    "\n",
    "plt.plot(loss_m)\n",
    "plt.xlabel('M', fontsize=14)\n",
    "plt.ylabel('CV loss', fontsize=14)\n",
    "plt.xticks(np.arange(M), np.arange(1, M + 1), fontsize=14)\n",
    "plt.tick_params(axis='both', which='major', labelsize=14)\n",
    "plt.show()"
   ]
  }
 ],
 "metadata": {
  "kernelspec": {
   "display_name": "Python 3",
   "language": "python",
   "name": "python3"
  },
  "language_info": {
   "codemirror_mode": {
    "name": "ipython",
    "version": 3
   },
   "file_extension": ".py",
   "mimetype": "text/x-python",
   "name": "python",
   "nbconvert_exporter": "python",
   "pygments_lexer": "ipython3",
   "version": "3.8.3"
  }
 },
 "nbformat": 4,
 "nbformat_minor": 4
}
