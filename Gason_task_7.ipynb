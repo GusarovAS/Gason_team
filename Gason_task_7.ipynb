{
 "cells": [
  {
   "cell_type": "code",
   "execution_count": 1,
   "metadata": {},
   "outputs": [],
   "source": [
    "import numpy as np"
   ]
  },
  {
   "cell_type": "code",
   "execution_count": 2,
   "metadata": {},
   "outputs": [],
   "source": [
    "pi = np.array([0.8, 0.2])\n",
    "P = np.array([[0.6, 0.5], [0.4, 0.5]])\n",
    "Q = np.array([[0.2, 0.5], [0.4, 0.4], [0.4, 0.1]])\n",
    "l = np.array([1, 3, 3, 2, 3, 3, 3, 2, 1, 2, 1, 1, 3, 2, 3, 2, 2, 1, 3, 3, 1, 1, 1, 2, 1])\n",
    "l = l - 1"
   ]
  },
  {
   "cell_type": "code",
   "execution_count": 3,
   "metadata": {},
   "outputs": [
    {
     "data": {
      "text/plain": [
       "array([[1.60000000e-01, 1.00000000e-01],\n",
       "       [5.84000000e-02, 1.14000000e-02],\n",
       "       [1.62960000e-02, 2.90600000e-03],\n",
       "       [4.49224000e-03, 3.18856000e-03],\n",
       "       [1.71584960e-03, 3.39117600e-04],\n",
       "       [4.79627424e-04, 8.55898640e-05],\n",
       "       [1.32228555e-04, 2.34645902e-05],\n",
       "       [3.64277711e-05, 2.58494868e-05],\n",
       "       [6.95628121e-06, 1.37479259e-05],\n",
       "       [4.41909267e-06, 3.86259018e-06],\n",
       "       [9.16550139e-07, 1.84946608e-06],\n",
       "       [2.94932625e-07, 6.45676547e-07],\n",
       "       [1.99919139e-07, 4.40811324e-08],\n",
       "       [5.67968199e-08, 4.08032888e-08],\n",
       "       [2.17918945e-08, 4.31203724e-09],\n",
       "       [6.09246214e-09, 4.34911057e-09],\n",
       "       [2.33201303e-09, 1.84461606e-09],\n",
       "       [4.64303169e-10, 9.27556619e-10],\n",
       "       [2.96944084e-10, 6.49499577e-11],\n",
       "       [8.42565718e-11, 1.51252613e-11],\n",
       "       [1.16233147e-11, 2.06326297e-11],\n",
       "       [3.45806074e-12, 7.48282037e-12],\n",
       "       [1.16324933e-12, 2.56231724e-12],\n",
       "       [7.91643286e-13, 6.98583340e-13],\n",
       "       [1.64855528e-13, 3.32974492e-13]])"
      ]
     },
     "execution_count": 3,
     "metadata": {},
     "output_type": "execute_result"
    }
   ],
   "source": [
    "a = np.zeros((len(l), 2))\n",
    "a[0] = Q[l[0]] * pi\n",
    "for i in range(1, len(l)) :\n",
    "    a[i] = Q[l[i]] * np.dot(P, a[i - 1])\n",
    "a"
   ]
  },
  {
   "cell_type": "markdown",
   "metadata": {},
   "source": [
    "Итого, правдопадобие равно:"
   ]
  },
  {
   "cell_type": "code",
   "execution_count": 4,
   "metadata": {},
   "outputs": [
    {
     "data": {
      "text/plain": [
       "4.978300204739012e-13"
      ]
     },
     "execution_count": 4,
     "metadata": {},
     "output_type": "execute_result"
    }
   ],
   "source": [
    "np.sum(a[len(l) - 1])"
   ]
  },
  {
   "cell_type": "code",
   "execution_count": 5,
   "metadata": {},
   "outputs": [
    {
     "data": {
      "text/plain": [
       "array([[1.60000000e-01, 1.00000000e-01],\n",
       "       [3.84000000e-02, 6.40000000e-03],\n",
       "       [9.21600000e-03, 1.53600000e-03],\n",
       "       [2.21184000e-03, 1.47456000e-03],\n",
       "       [5.30841600e-04, 8.84736000e-05],\n",
       "       [1.27401984e-04, 2.12336640e-05],\n",
       "       [3.05764762e-05, 5.09607936e-06],\n",
       "       [7.33835428e-06, 4.89223619e-06],\n",
       "       [8.80602513e-07, 1.46767086e-06],\n",
       "       [2.93534171e-07, 2.93534171e-07],\n",
       "       [3.52241005e-08, 7.33835428e-08],\n",
       "       [7.33835428e-09, 1.83458857e-08],\n",
       "       [3.66917714e-09, 9.17294285e-10],\n",
       "       [8.80602513e-10, 5.87068342e-10],\n",
       "       [2.11344603e-10, 3.52241005e-11],\n",
       "       [5.07227048e-11, 3.38151365e-11],\n",
       "       [1.21734491e-11, 8.11563276e-12],\n",
       "       [1.46081390e-12, 2.43468983e-12],\n",
       "       [4.86937966e-13, 1.21734491e-13],\n",
       "       [1.16865112e-13, 1.94775186e-14],\n",
       "       [1.40238134e-14, 2.33730224e-14],\n",
       "       [2.33730224e-15, 5.84325559e-15],\n",
       "       [5.84325559e-16, 1.46081390e-15],\n",
       "       [2.92162779e-16, 2.92162779e-16],\n",
       "       [3.50595335e-17, 7.30406949e-17]])"
      ]
     },
     "execution_count": 5,
     "metadata": {},
     "output_type": "execute_result"
    }
   ],
   "source": [
    "b = np.zeros((len(l), 2))\n",
    "b[0] = Q[l[0]] * pi\n",
    "for i in range(1, len(l)) :\n",
    "    b[i] = np.max(np.repeat(Q[l[i]], 2).reshape(2, 2) * (P * b[i - 1]), axis = 1)\n",
    "b"
   ]
  },
  {
   "cell_type": "markdown",
   "metadata": {},
   "source": [
    "Роследовательность вершин:"
   ]
  },
  {
   "cell_type": "code",
   "execution_count": 6,
   "metadata": {},
   "outputs": [
    {
     "name": "stdout",
     "output_type": "stream",
     "text": [
      "1 Hot\n",
      "2 Hot\n",
      "3 Hot\n",
      "4 Hot\n",
      "5 Hot\n",
      "6 Hot\n",
      "7 Hot\n",
      "8 Hot\n",
      "9 Cold\n",
      "10 Hot or Cold\n",
      "11 Cold\n",
      "12 Cold\n",
      "13 Hot\n",
      "14 Hot\n",
      "15 Hot\n",
      "16 Hot\n",
      "17 Hot\n",
      "18 Cold\n",
      "19 Hot\n",
      "20 Hot\n",
      "21 Cold\n",
      "22 Cold\n",
      "23 Cold\n",
      "24 Hot or Cold\n",
      "25 Cold\n"
     ]
    }
   ],
   "source": [
    "for i in range(len(l)) :\n",
    "    if b[i, 0] == b[i, 1] :\n",
    "        print(str(i + 1) + ' Hot or Cold')\n",
    "    elif np.argmax(b[i]) == 0 :\n",
    "        print(str(i + 1) + ' Hot')\n",
    "    else :\n",
    "        print(str(i + 1) + ' Cold')"
   ]
  }
 ],
 "metadata": {
  "kernelspec": {
   "display_name": "Python 3",
   "language": "python",
   "name": "python3"
  },
  "language_info": {
   "codemirror_mode": {
    "name": "ipython",
    "version": 3
   },
   "file_extension": ".py",
   "mimetype": "text/x-python",
   "name": "python",
   "nbconvert_exporter": "python",
   "pygments_lexer": "ipython3",
   "version": "3.8.3"
  }
 },
 "nbformat": 4,
 "nbformat_minor": 4
}
